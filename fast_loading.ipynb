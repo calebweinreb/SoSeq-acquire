{
 "cells": [
  {
   "cell_type": "code",
   "execution_count": 1,
   "metadata": {},
   "outputs": [],
   "source": [
    "import os, sys\n",
    "sys.path.append('../SoSeq-segment')\n",
    "from utils.io import *"
   ]
  },
  {
   "cell_type": "code",
   "execution_count": 2,
   "metadata": {},
   "outputs": [],
   "source": [
    "data_directory = 'data_cropped/'\n",
    "video_lenghts = get_video_lengths(data_directory)"
   ]
  },
  {
   "cell_type": "code",
   "execution_count": 3,
   "metadata": {},
   "outputs": [],
   "source": [
    "import time"
   ]
  },
  {
   "cell_type": "code",
   "execution_count": 6,
   "metadata": {},
   "outputs": [],
   "source": [
    "video = list(video_lenghts.keys())[0]"
   ]
  },
  {
   "cell_type": "code",
   "execution_count": 7,
   "metadata": {},
   "outputs": [
    {
     "name": "stdout",
     "output_type": "stream",
     "text": [
      "4.141345500946045\n",
      "1.729292869567871\n",
      "1.8930456638336182\n",
      "1.9703407287597656\n",
      "1.559800148010254\n",
      "2.355107545852661\n",
      "1.4081003665924072\n",
      "2.2489302158355713\n",
      "1.735072374343872\n",
      "1.9174268245697021\n"
     ]
    }
   ],
   "source": [
    "for frame in range(4000,5000,100):\n",
    "    t = time.time()\n",
    "    d = read_depth_frames16(data_directory+video.replace('color.mp4','depth.avi'), range(frame,frame+100), frame_size=(540,480))\n",
    "    print(time.time()-t)\n",
    "    "
   ]
  },
  {
   "cell_type": "code",
   "execution_count": 10,
   "metadata": {},
   "outputs": [
    {
     "name": "stdout",
     "output_type": "stream",
     "text": [
      "0.014189990162849426\n",
      "0.012492775917053223\n",
      "0.014506909847259521\n",
      "0.012922528982162475\n",
      "0.01391875684261322\n"
     ]
    }
   ],
   "source": [
    "for frame in range(4000,5000,200):\n",
    "    t = time.time()\n",
    "    d = read_depth_frames16(data_directory+video.replace('color.mp4','depth.avi'), range(frame,frame+400), frame_size=(540,480))\n",
    "    print((time.time()-t)/400)\n",
    "    "
   ]
  },
  {
   "cell_type": "code",
   "execution_count": 11,
   "metadata": {},
   "outputs": [
    {
     "name": "stdout",
     "output_type": "stream",
     "text": [
      "0.016278126239776612\n",
      "0.01449566125869751\n",
      "0.013635834455490112\n",
      "0.01460455060005188\n",
      "0.014991321563720704\n"
     ]
    }
   ],
   "source": [
    "for frame in range(4000,5000,200):\n",
    "    t = time.time()\n",
    "    d = read_depth_frames16(data_directory+video.replace('color.mp4','depth.avi'), range(frame,frame+200), frame_size=(540,480))\n",
    "    print((time.time()-t)/200)\n",
    "    "
   ]
  },
  {
   "cell_type": "code",
   "execution_count": 12,
   "metadata": {},
   "outputs": [
    {
     "name": "stdout",
     "output_type": "stream",
     "text": [
      "0.024558696746826172\n",
      "0.013726201057434082\n",
      "0.02258312702178955\n",
      "0.01674931287765503\n",
      "0.01855215311050415\n"
     ]
    }
   ],
   "source": [
    "for frame in range(4000,5000,200):\n",
    "    t = time.time()\n",
    "    d = read_depth_frames16(data_directory+video.replace('color.mp4','depth.avi'), range(frame,frame+100), frame_size=(540,480))\n",
    "    print((time.time()-t)/100)\n",
    "    "
   ]
  },
  {
   "cell_type": "code",
   "execution_count": 13,
   "metadata": {},
   "outputs": [
    {
     "name": "stdout",
     "output_type": "stream",
     "text": [
      "0.01188888281583786\n",
      "0.013157888650894164\n",
      "0.015701971054077148\n",
      "0.013950875401496888\n",
      "0.012726412415504455\n"
     ]
    }
   ],
   "source": [
    "for frame in range(4000,5000,200):\n",
    "    t = time.time()\n",
    "    d = read_depth_frames16(data_directory+video.replace('color.mp4','depth.avi'), range(frame,frame+800), frame_size=(540,480))\n",
    "    print((time.time()-t)/800)\n",
    "    "
   ]
  },
  {
   "cell_type": "code",
   "execution_count": null,
   "metadata": {},
   "outputs": [],
   "source": []
  }
 ],
 "metadata": {
  "kernelspec": {
   "display_name": "Python (soseq)",
   "language": "python",
   "name": "soseq"
  },
  "language_info": {
   "codemirror_mode": {
    "name": "ipython",
    "version": 3
   },
   "file_extension": ".py",
   "mimetype": "text/x-python",
   "name": "python",
   "nbconvert_exporter": "python",
   "pygments_lexer": "ipython3",
   "version": "3.7.6"
  }
 },
 "nbformat": 4,
 "nbformat_minor": 2
}
